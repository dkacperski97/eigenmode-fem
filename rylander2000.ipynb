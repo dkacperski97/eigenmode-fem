{
 "cells": [
  {
   "cell_type": "markdown",
   "id": "liable-happiness",
   "metadata": {},
   "source": [
    "### Edge elements on triangles\n",
    "This is based on $2 \\times 2$-element resonator example from \"Computational Electromagnetics\", 2000\n",
    "but solved with code from Davidson (\"Computational Electromagnetics for RF and Microwave Engineering\", 2011)"
   ]
  },
  {
   "cell_type": "code",
   "execution_count": 1,
   "id": "destroyed-carroll",
   "metadata": {},
   "outputs": [],
   "source": [
    "# helper functions\n",
    "using LinearAlgebra\n",
    "include(\"whitney.jl\")\n",
    "include(\"meshing.jl\")\n",
    "nothing"
   ]
  },
  {
   "cell_type": "code",
   "execution_count": 2,
   "id": "economic-touch",
   "metadata": {},
   "outputs": [
    {
     "data": {
      "text/plain": [
       "SandT (generic function with 1 method)"
      ]
     },
     "execution_count": 2,
     "metadata": {},
     "output_type": "execute_result"
    }
   ],
   "source": [
    "function SandT(x1, y1, x2, y2, x3, y3)\n",
    "    global LOCALEDGENODES\n",
    "\n",
    "    area = .5abs(det([1. x1 y1\n",
    "                      1. x2 y2\n",
    "                      1. x3 y3]))\n",
    "    temp = inv([x1 x2 x3\n",
    "                y1 y2 y3\n",
    "                1. 1. 1.])\n",
    "    b = temp[:,1]\n",
    "    c = temp[:,2]\n",
    "    a = temp[:,3]\n",
    "    ∇λ = [[b[1], c[1]],\n",
    "          [b[2], c[2]],\n",
    "          [b[3], c[3]]]\n",
    "    φ = zeros(3, 3) # φij = ∇λi ⋅ ∇λj = (bi⋅ci + bj⋅cj)\n",
    "    v = zeros(3, 3) # vij = ∇λi × ∇λj = (bi⋅cj - bj⋅ci)ẑ\n",
    "    for ii = 1:3\n",
    "       for jj = 1:3\n",
    "           φ[ii, jj] = b[ii] * b[jj] + c[ii] * c[jj]\n",
    "           v[ii, jj] = b[ii] * c[jj] - b[jj] * c[ii]\n",
    "       end \n",
    "    end\n",
    "\n",
    "    M = [2. 1. 1.\n",
    "         1. 2. 1.\n",
    "         1. 1. 2.] / 12.0\n",
    "\n",
    "    # Compute S and T\n",
    "    S = zeros(3, 3)\n",
    "    T = zeros(3, 3)\n",
    "    for ii = 1:3\n",
    "       for jj = 1:3\n",
    "         i1 = LOCALEDGENODES[ii,1]\n",
    "         i2 = LOCALEDGENODES[ii,2]\n",
    "         j1 = LOCALEDGENODES[jj,1]\n",
    "         j2 = LOCALEDGENODES[jj,2]\n",
    "         S[ii,jj] = 4area*v[i1, i2] * v[j1, j2]\n",
    "         T[ii,jj] = area*(φ[i2, j2] * M[i1, j1] +\n",
    "                        - φ[i2, j1] * M[i1, j2] +\n",
    "                        - φ[i1, j2] * M[i2, j1] +\n",
    "                        + φ[i1, j1] * M[i2, j2])\n",
    "       end \n",
    "    end\n",
    "    \n",
    "    return S, T\n",
    "end"
   ]
  },
  {
   "cell_type": "code",
   "execution_count": 3,
   "id": "designing-newark",
   "metadata": {},
   "outputs": [
    {
     "data": {
      "text/plain": [
       "simplex2D (generic function with 1 method)"
      ]
     },
     "execution_count": 3,
     "metadata": {},
     "output_type": "execute_result"
    }
   ],
   "source": [
    "function simplex2D(elem_num, xp, yp)\n",
    "    global ELEMENTS\n",
    "    global NODE_COORD \n",
    "\n",
    "    trinodes = ELEMENTS[elem_num, :]; \n",
    "    x1 = NODE_COORD[trinodes[1],1];\n",
    "    y1 = NODE_COORD[trinodes[1],2];\n",
    "    x2 = NODE_COORD[trinodes[2],1];\n",
    "    y2 = NODE_COORD[trinodes[2],2];\n",
    "    x3 = NODE_COORD[trinodes[3],1];\n",
    "    y3 = NODE_COORD[trinodes[3],2];\n",
    "\n",
    "    σ0 = det([1. x1 y1; 1. x2 y2; 1. x3 y3]);\n",
    "    σ1 = det([1. xp yp; 1. x2 y2; 1. x3 y3]);\n",
    "    σ2 = det([1. x1 y1; 1. xp yp; 1. x3 y3]);\n",
    "    σ3 = det([1. x1 y1; 1. x2 y2; 1. xp yp]);\n",
    "    λ  = [σ1/σ0, σ2/σ0, σ3/σ0]\n",
    "    return λ\n",
    "end"
   ]
  },
  {
   "cell_type": "code",
   "execution_count": 4,
   "id": "north-coast",
   "metadata": {},
   "outputs": [],
   "source": [
    "# Parameters\n",
    "ε0 = 1.\n",
    "μ0 = 1.\n",
    "εr = 1.\n",
    "μr = 1.\n",
    "σ  = 0.\n",
    "ε  = ε0 * εr\n",
    "μ  = μ0 * μr\n",
    "\n",
    "a, b = 1.3, 0.9\n",
    "n, m = 13, 9\n",
    "nothing"
   ]
  },
  {
   "cell_type": "code",
   "execution_count": 5,
   "id": "southeast-combine",
   "metadata": {},
   "outputs": [
    {
     "data": {
      "image/png": "[encoded data removed]",
      "text/plain": [
       "Figure(PyObject <Figure size 500x100 with 1 Axes>)"
      ]
     },
     "metadata": {},
     "output_type": "display_data"
    }
   ],
   "source": [
    "using PyPlot\n",
    "\n",
    "LOCALEDGENODES = [1 2; 1 3; 2 3]\n",
    "trimesh(a, b, n, m)\n",
    "triedgemake()\n",
    "\n",
    "figure(figsize=(5,1))\n",
    "triplot(NODE_COORD[:,1], NODE_COORD[:,2], triangles=(ELEMENTS .- 1)); # subtract 1 as we go into Python-world\n",
    "axis(\"equal\");"
   ]
  },
  {
   "cell_type": "code",
   "execution_count": 6,
   "id": "14e6d172",
   "metadata": {},
   "outputs": [
    {
     "data": {
      "text/plain": [
       "140-element Vector{Float64}:\n",
       " 0.0\n",
       " 0.1\n",
       " 0.2\n",
       " 0.30000000000000004\n",
       " 0.4\n",
       " 0.5\n",
       " 0.6000000000000001\n",
       " 0.7000000000000001\n",
       " 0.8\n",
       " 0.9\n",
       " 1.0\n",
       " 1.1\n",
       " 1.2000000000000002\n",
       " ⋮\n",
       " 0.2\n",
       " 0.30000000000000004\n",
       " 0.4\n",
       " 0.5\n",
       " 0.6000000000000001\n",
       " 0.7000000000000001\n",
       " 0.8\n",
       " 0.9\n",
       " 1.0\n",
       " 1.1\n",
       " 1.2000000000000002\n",
       " 1.3"
      ]
     },
     "execution_count": 6,
     "metadata": {},
     "output_type": "execute_result"
    }
   ],
   "source": [
    "NODE_COORD[:,1]"
   ]
  },
  {
   "cell_type": "code",
   "execution_count": 7,
   "id": "d4dbc4b2",
   "metadata": {},
   "outputs": [
    {
     "data": {
      "text/plain": [
       "140-element Vector{Float64}:\n",
       " 0.0\n",
       " 0.0\n",
       " 0.0\n",
       " 0.0\n",
       " 0.0\n",
       " 0.0\n",
       " 0.0\n",
       " 0.0\n",
       " 0.0\n",
       " 0.0\n",
       " 0.0\n",
       " 0.0\n",
       " 0.0\n",
       " ⋮\n",
       " 0.9\n",
       " 0.9\n",
       " 0.9\n",
       " 0.9\n",
       " 0.9\n",
       " 0.9\n",
       " 0.9\n",
       " 0.9\n",
       " 0.9\n",
       " 0.9\n",
       " 0.9\n",
       " 0.9"
      ]
     },
     "execution_count": 7,
     "metadata": {},
     "output_type": "execute_result"
    }
   ],
   "source": [
    "NODE_COORD[:,2]"
   ]
  },
  {
   "cell_type": "code",
   "execution_count": 8,
   "id": "c4457c2f",
   "metadata": {},
   "outputs": [
    {
     "data": {
      "text/plain": [
       "234×3 Matrix{Int64}:\n",
       "   0    1   14\n",
       "   1    2   15\n",
       "   2    3   16\n",
       "   3    4   17\n",
       "   4    5   18\n",
       "   5    6   19\n",
       "   6    7   20\n",
       "   7    8   21\n",
       "   8    9   22\n",
       "   9   10   23\n",
       "  10   11   24\n",
       "  11   12   25\n",
       "  12   13   26\n",
       "   ⋮       \n",
       " 114  127  128\n",
       " 115  128  129\n",
       " 116  129  130\n",
       " 117  130  131\n",
       " 118  131  132\n",
       " 119  132  133\n",
       " 120  133  134\n",
       " 121  134  135\n",
       " 122  135  136\n",
       " 123  136  137\n",
       " 124  137  138\n",
       " 125  138  139"
      ]
     },
     "execution_count": 8,
     "metadata": {},
     "output_type": "execute_result"
    }
   ],
   "source": [
    "triangles=(ELEMENTS .- 1)"
   ]
  },
  {
   "cell_type": "code",
   "execution_count": 9,
   "id": "worthy-parallel",
   "metadata": {},
   "outputs": [
    {
     "data": {
      "text/plain": [
       "dof_type (generic function with 1 method)"
      ]
     },
     "execution_count": 9,
     "metadata": {},
     "output_type": "execute_result"
    }
   ],
   "source": [
    "DOF_NONE = 0\n",
    "DOF_PEC  = 1\n",
    "\n",
    "function dof_type(a, b)\n",
    "    global NUM_EDGES\n",
    "    global EDGES\n",
    "    global NODE_COORD\n",
    "    dof_flag = zeros(Int64, NUM_EDGES)\n",
    "    \n",
    "    for i_edge = 1:NUM_EDGES\n",
    "       node1 = EDGES[i_edge, 1]\n",
    "       node2 = EDGES[i_edge, 2]\n",
    "       if NODE_COORD[node1, 2] ≈ 0. && NODE_COORD[node2, 2] ≈ 0. # ie y=0\n",
    "           dof_flag[i_edge] = DOF_PEC\n",
    "       end\n",
    "       if NODE_COORD[node1, 2] ≈ b  && NODE_COORD[node2, 2] ≈ b  # ie y=b\n",
    "           dof_flag[i_edge] = DOF_PEC\n",
    "       end\n",
    "       if NODE_COORD[node1, 1] ≈ 0. && NODE_COORD[node2, 1] ≈ 0. # ie x=0\n",
    "           dof_flag[i_edge] = DOF_PEC\n",
    "       end\n",
    "       if NODE_COORD[node1, 1] ≈ a  && NODE_COORD[node2, 1] ≈ a  # ie x=a\n",
    "           dof_flag[i_edge] = DOF_PEC\n",
    "       end\n",
    "    end\n",
    "    return dof_flag\n",
    "end"
   ]
  },
  {
   "cell_type": "code",
   "execution_count": 10,
   "id": "excess-scanning",
   "metadata": {},
   "outputs": [
    {
     "data": {
      "text/plain": [
       "dof_renumber! (generic function with 1 method)"
      ]
     },
     "execution_count": 10,
     "metadata": {},
     "output_type": "execute_result"
    }
   ],
   "source": [
    "function dof_renumber!(dof, Γ)\n",
    "    global NUM_EDGES\n",
    "    global NUM_DOFS\n",
    "    last = 0\n",
    "    for i_edge = 1:NUM_EDGES\n",
    "       if Γ[i_edge] == 0\n",
    "         dof[i_edge] = last + 1\n",
    "         last += 1\n",
    "       else\n",
    "         dof[i_edge] = 0\n",
    "       end\n",
    "    end\n",
    "    NUM_DOFS = last\n",
    "    return dof\n",
    "end"
   ]
  },
  {
   "cell_type": "code",
   "execution_count": 11,
   "id": "republican-cyprus",
   "metadata": {},
   "outputs": [],
   "source": [
    "dof = collect(1:NUM_EDGES)\n",
    "\n",
    "Γ = dof_type(a, b)\n",
    "dof_renumber!(dof, Γ);"
   ]
  },
  {
   "cell_type": "code",
   "execution_count": 12,
   "id": "exciting-alberta",
   "metadata": {},
   "outputs": [],
   "source": [
    "# ASSUMPTION: Waveguide is homogenous\n",
    "# Assemble stiffness and mass matrices\n",
    "S = zeros(NUM_DOFS, NUM_DOFS) # 1/μr ∫( ∇Ni × ∇Nj )dΩ\n",
    "T = zeros(NUM_DOFS, NUM_DOFS) # μ0 ε ∫( ∇Ni ⋅ ∇Nj )dΩ\n",
    "\n",
    "for ielem = 1:NUM_ELEMS # Assemble by elements\n",
    "  trinodes = ELEMENTS[ielem, :]\n",
    "  Se, Te = SandT(NODE_COORD[trinodes[1],1], NODE_COORD[trinodes[1],2],\n",
    "                 NODE_COORD[trinodes[2],1], NODE_COORD[trinodes[2],2],\n",
    "                 NODE_COORD[trinodes[3],1], NODE_COORD[trinodes[3],2])\n",
    "  \n",
    "  for jedge = 1:3\n",
    "    jj = dof[ELEMENT_EDGES[ielem, jedge]]\n",
    "    if jj == 0 continue end\n",
    "    for kedge = 1:3\n",
    "      kk = dof[ELEMENT_EDGES[ielem, kedge]]\n",
    "      if kk == 0 continue end\n",
    "      S[jj, kk] = S[jj, kk] + (1/μr) * Se[jedge, kedge]\n",
    "      T[jj, kk] = T[jj, kk] + (μ0*ε) * Te[jedge, kedge]\n",
    "    end\n",
    "  end\n",
    "end"
   ]
  },
  {
   "cell_type": "code",
   "execution_count": 13,
   "id": "painful-mambo",
   "metadata": {},
   "outputs": [
    {
     "data": {
      "image/png": "[encoded data removed]",
      "text/plain": [
       "Figure(PyObject <Figure size 500x200 with 2 Axes>)"
      ]
     },
     "metadata": {},
     "output_type": "display_data"
    }
   ],
   "source": [
    "figure(figsize=(5, 2))\n",
    "subplot(1, 2, 1); spy(S); title(\"S\"); xticks([]); yticks([]);\n",
    "subplot(1, 2, 2); spy(T); title(\"T\"); xticks([]); yticks([]);\n",
    "tight_layout()"
   ]
  },
  {
   "cell_type": "code",
   "execution_count": 14,
   "id": "single-disease",
   "metadata": {},
   "outputs": [
    {
     "name": "stdout",
     "output_type": "stream",
     "text": [
      "97. 115.21108990700745MHz\n"
     ]
    }
   ],
   "source": [
    "using LinearAlgebra\n",
    "\n",
    "k², e = eigen(S, T)\n",
    "\n",
    "speed_of_light = 299_792_458.\n",
    "for n in 1:length(k²)\n",
    "    wavenumber_squared = k²[n]\n",
    "    if imag(wavenumber_squared) ≈ 0.0\n",
    "        if real(wavenumber_squared) > 0.0\n",
    "            frequency = sqrt(abs(wavenumber_squared)) / 2π * speed_of_light\n",
    "            if 114e6 < frequency < 116e6\n",
    "                println(n, \". \", 1e-6frequency, \"MHz\")\n",
    "            end\n",
    "        end\n",
    "    end\n",
    "end"
   ]
  },
  {
   "cell_type": "code",
   "execution_count": 15,
   "id": "inclusive-rings",
   "metadata": {},
   "outputs": [
    {
     "data": {
      "image/png": "[encoded data removed]",
      "text/plain": [
       "Figure(PyObject <Figure size 500x500 with 1 Axes>)"
      ]
     },
     "metadata": {},
     "output_type": "display_data"
    }
   ],
   "source": [
    "n = 97\n",
    "x = 0.1:0.15:1.2\n",
    "y = 0.1:0.15:0.8\n",
    "E = evaluate(WhitneyTriangleElement(), e[:, n], dof, x, y)\n",
    "normE  = @. sqrt(E[:, :, 1]^2 + E[:, :, 2]^2)\n",
    "xx = [x for _ in y, x in x]\n",
    "yy = [y for y in y, _ in x]\n",
    "\n",
    "figure(figsize=(5, 5))\n",
    "contourf(xx', yy', normE, levels=20)\n",
    "quiver(xx', yy', E[:, :, 1], E[:, :, 2])\n",
    "xlim([-0.1, +1.3])\n",
    "ylim([-0.1, +0.9])\n",
    "xticks([]); yticks([]);"
   ]
  },
  {
   "cell_type": "code",
   "execution_count": null,
   "id": "c166b7d1",
   "metadata": {},
   "outputs": [],
   "source": []
  }
 ],
 "metadata": {
  "kernelspec": {
   "display_name": "Julia 1.10.0",
   "language": "julia",
   "name": "julia-1.10"
  },
  "language_info": {
   "file_extension": ".jl",
   "mimetype": "application/julia",
   "name": "julia",
   "version": "1.10.0"
  }
 },
 "nbformat": 4,
 "nbformat_minor": 5
}
